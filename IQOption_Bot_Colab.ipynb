
{
 "cells": [
  {
   "cell_type": "code",
   "source": [
    "!pip install git+https://github.com/Lu-Yi-Hsun/iqoptionapi.git\n",
    "!pip install TA-Lib"
   ],
   "metadata": {},
   "execution_count": null,
   "outputs": []
  },
  {
   "cell_type": "code",
   "source": [
    "import ipywidgets as widgets\n",
    "from IPython.display import display\n",
    "\n",
    "email = widgets.Text(description='Email:')\n",
    "senha = widgets.Password(description='Senha:')\n",
    "valor = widgets.FloatText(value=10.0, description='Valor:')\n",
    "conta_real = widgets.ToggleButtons(options=[('Demo', False), ('Real', True)], description='Conta:')\n",
    "\n",
    "display(email, senha, valor, conta_real)"
   ],
   "metadata": {},
   "execution_count": null,
   "outputs": []
  },
  {
   "cell_type": "code",
   "source": [
    "from iqoption_bot import iniciar_bot\n",
    "iniciar_bot(email.value, senha.value, conta_real.value, valor.value)"
   ],
   "metadata": {},
   "execution_count": null,
   "outputs": []
  }
 ],
 "metadata": {
  "kernelspec": {
   "name": "python3",
   "language": "python",
   "display_name": "Python 3"
  },
  "language_info": {
   "name": "python",
   "version": "3.10"
  }
 },
 "nbformat": 4,
 "nbformat_minor": 2
}
